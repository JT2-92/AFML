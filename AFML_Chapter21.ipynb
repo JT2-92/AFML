{
 "cells": [
  {
   "cell_type": "code",
   "execution_count": null,
   "metadata": {},
   "outputs": [],
   "source": [
    "import numpy as np\n",
    "from itertools import product\n",
    "#------------------------\n",
    "def evalTCosts(w, params):\n",
    "    # 특정 궤적의 거래 비용 계산\n",
    "    tcost = np.zeros(w.shape[l])\n",
    "    w_ = np.zeros(shape=w.shape[O])\n",
    "    for i in range(tcost.shape[O]):\n",
    "        c_ = params[i] [\"c\"]\n",
    "        tcost[i] = (c_*abs(w[:,i] w_)**.5).sum()\n",
    "        w_=w[:,i].copyO\n",
    "    return tcost\n",
    "#'-----------------------\n",
    "def evalSR(params ,w,tcost):\n",
    "    # 다수 호라이즌에 대한 SR 계산\n",
    "    mean, cov = 0,0\n",
    "    for h in range(w.shape[1]):\n",
    "        params_=params[h]\n",
    "        mean += np.dot(w[:, h].T, params_[\"mean\"])[0] - tcost[h]\n",
    "        cov  += np.dot(w[:, h].T, np.dot(params_[\"cov\"], w[: ,h]))\n",
    "    sr=mean/cov**.5\n",
    "    return sr\n",
    "def dynOptPort(params ,k=NOne):\n",
    "    # 동적 최적 포트폴리오\n",
    "    #1) 분할 생성\n",
    "    if k is None: k=params [0] [’ mean ’ ].shape[O]\n",
    "    n=params[O] [’ mean ’ ].shape[O]\n",
    "    w_all ,sr=getAllweights(k ,n) ,None\n",
    "    #2) 궤적을 카티선 곱으로 생성\n",
    "    for prod_ in product(w_all.T,repeat=len(params)):\n",
    "        w_=np.array(prod_).T # 상움을 궤적으로 연결\n",
    "        tcost_=evalTCosts(w_ ,params)\n",
    "        sr_=evalSR(params ,w_ ,tcost_) # 궤적 평가\n",
    "        if sr is None or sr<sr_: # 더 나은 궤적은 저장\n",
    "            sr ,w=sr_ ,w_.copy()\n",
    "    return w"
   ]
  },
  {
   "cell_type": "code",
   "execution_count": 2,
   "metadata": {},
   "outputs": [],
   "source": [
    "import numpy as np\n",
    "# -------------------------------------------------\n",
    "def rndMatwithRank(nsamples ,ncols , rank ,sigma=0 ,homNoise=True):\n",
    "    # 주어진 랭크의 랜덤 행렬 X 생성\n",
    "    rng=np.random.Randomstate()\n",
    "    U,_,_=np.linalg.svd(rng.randn(nCols, nCols))\n",
    "    x=np.dot(rng.randn(nsamples, rank), U[:,:rank].T)\n",
    "    if homNoise:\n",
    "        x+=sigma*rng.randn(nSamples , nCols) # 등분산 잡음 추가\n",
    "    else:\n",
    "        sigmas=sigma*(rng.rand(nCols)+.5)# 이분산 잡음 추가\n",
    "        x+=rng.randn(nsamples,ncols)*sigmas\n",
    "    return x"
   ]
  },
  {
   "cell_type": "code",
   "execution_count": 4,
   "metadata": {},
   "outputs": [
    {
     "ename": "NameError",
     "evalue": "name 'params' is not defined",
     "output_type": "error",
     "traceback": [
      "\u001b[1;31m---------------------------------------------------------------------------\u001b[0m",
      "\u001b[1;31mNameError\u001b[0m                                 Traceback (most recent call last)",
      "\u001b[1;32m<ipython-input-4-57e6bf1b6d08>\u001b[0m in \u001b[0;36m<module>\u001b[1;34m\u001b[0m\n\u001b[0;32m     12\u001b[0m \u001b[1;31m#2) Static optimal portfolios\u001b[0m\u001b[1;33m\u001b[0m\u001b[1;33m\u001b[0m\u001b[1;33m\u001b[0m\u001b[0m\n\u001b[0;32m     13\u001b[0m \u001b[0mw_stat\u001b[0m\u001b[1;33m=\u001b[0m\u001b[1;32mNone\u001b[0m\u001b[1;33m\u001b[0m\u001b[1;33m\u001b[0m\u001b[0m\n\u001b[1;32m---> 14\u001b[1;33m \u001b[1;32mfor\u001b[0m \u001b[0mparams_\u001b[0m \u001b[1;32min\u001b[0m \u001b[0mparams\u001b[0m\u001b[1;33m:\u001b[0m\u001b[1;33m\u001b[0m\u001b[1;33m\u001b[0m\u001b[0m\n\u001b[0m\u001b[0;32m     15\u001b[0m     \u001b[0mw_\u001b[0m\u001b[1;33m=\u001b[0m\u001b[0mstatOptPortf\u001b[0m\u001b[1;33m(\u001b[0m\u001b[0mcov\u001b[0m\u001b[1;33m=\u001b[0m\u001b[0mparams_\u001b[0m\u001b[1;33m[\u001b[0m\u001b[1;34m'cov'\u001b[0m\u001b[1;33m]\u001b[0m\u001b[1;33m,\u001b[0m\u001b[0ma\u001b[0m\u001b[1;33m=\u001b[0m\u001b[0mparams_\u001b[0m\u001b[1;33m[\u001b[0m\u001b[1;34m'mean'\u001b[0m\u001b[1;33m]\u001b[0m\u001b[1;33m)\u001b[0m\u001b[1;33m\u001b[0m\u001b[1;33m\u001b[0m\u001b[0m\n\u001b[0;32m     16\u001b[0m     \u001b[1;32mif\u001b[0m \u001b[0mw_stat\u001b[0m \u001b[1;32mis\u001b[0m \u001b[1;32mNone\u001b[0m\u001b[1;33m:\u001b[0m\u001b[0mw_stat\u001b[0m\u001b[1;33m=\u001b[0m\u001b[0mw_\u001b[0m\u001b[1;33m.\u001b[0m\u001b[0mcopy\u001b[0m\u001b[1;33m(\u001b[0m\u001b[1;33m)\u001b[0m\u001b[1;33m\u001b[0m\u001b[1;33m\u001b[0m\u001b[0m\n",
      "\u001b[1;31mNameError\u001b[0m: name 'params' is not defined"
     ]
    }
   ],
   "source": [
    "import numpy as np\n",
    "#———————————————————————————————————————\n",
    "def statOptPortf(cov,a):\n",
    "    # Static optimal porftolio\n",
    "    # Solution to the \"unconstrained\" portfolio optimization problem\n",
    "    cov_inv=np.linalg.inv(cov)\n",
    "    w=np.dot(cov_inv,a)\n",
    "    w/=np.dot(np.dot(a.T,cov_inv),a) # np.dot(w.T,a)==1\n",
    "    w/=abs(w).sum() # re-scale for full investment\n",
    "    return w\n",
    "    #———————————————————————————————————————\n",
    "#2) Static optimal portfolios\n",
    "w_stat=None\n",
    "for params_ in params:\n",
    "    w_=statOptPortf(cov=params_['cov'],a=params_['mean'])\n",
    "    if w_stat is None:w_stat=w_.copy()\n",
    "    else:w_stat=np.append(w_stat,w_,axis=1)\n",
    "tcost_stat=evalTCosts(w_stat,params)\n",
    "sr_stat=evalSR(params,w_stat,tcost_stat)\n",
    "print('static SR:',sr_stat)"
   ]
  },
  {
   "cell_type": "code",
   "execution_count": null,
   "metadata": {},
   "outputs": [],
   "source": []
  }
 ],
 "metadata": {
  "kernelspec": {
   "display_name": "Python 3 (ipykernel)",
   "language": "python",
   "name": "python3"
  },
  "language_info": {
   "codemirror_mode": {
    "name": "ipython",
    "version": 3
   },
   "file_extension": ".py",
   "mimetype": "text/x-python",
   "name": "python",
   "nbconvert_exporter": "python",
   "pygments_lexer": "ipython3",
   "version": "3.9.7"
  }
 },
 "nbformat": 4,
 "nbformat_minor": 4
}
