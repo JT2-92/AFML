{
 "cells": [
  {
   "cell_type": "code",
   "execution_count": 1,
   "metadata": {},
   "outputs": [],
   "source": [
    "np.random.seed(2020)\n",
    "from os import listdir\n",
    "from os.path import isfile, join\n",
    "import datetime as dt"
   ]
  },
  {
   "cell_type": "code",
   "execution_count": 2,
   "metadata": {},
   "outputs": [],
   "source": [
    "%matplotlib inline"
   ]
  },
  {
   "cell_type": "code",
   "execution_count": 3,
   "metadata": {},
   "outputs": [],
   "source": [
    "def preprocess_df(data, col_name):\n",
    "    data = data[data.체결시각 != 31000000]\n",
    "    data.일자     = data.일자.astype(str)\n",
    "    data.종목코드 = data.종목코드.astype(str).str.zfill(6)\n",
    "    data.체결시각 = data.체결시각.astype(str).str.zfill(8)\n",
    "    data[\"거래대금\"] = data.현재가 * data.체결수량\n",
    "    data.index = pd.to_datetime(data.일자 + data.체결시각, format=\"%Y%m%d%H%M%S%f\")\n",
    "    data.index.name = \"시각\"    \n",
    "    return data[set(col_name + [\"거래대금\"]) - set([\"일자\", \"체결시각\"])]\n",
    "\n",
    "def value_bar(df, value_size):\n",
    "    df = df.reset_index()\n",
    "    \n",
    "    df[\"value_num\"] = df[\"거래대금\"].cumsum() // value_size\n",
    "    groupby = df.groupby(\"value_num\")\n",
    "    \n",
    "    bars = groupby[\"현재가\"].ohlc()\n",
    "    bars[[\"volume\", \"value\"]] = groupby[[\"체결수량\", \"거래대금\"]].sum()\n",
    "    bars[\"시각\"] = groupby[\"시각\"].first()\n",
    "    bars.set_index(\"시각\", inplace = True)\n",
    "    return bars    \n",
    "\n",
    "def read_all_csv(path, col_name):\n",
    "    df = pd.DataFrame([])\n",
    "    files = [f for f in listdir(path) if isfile(join(path, f))]\n",
    "    for file in files:\n",
    "        data = pd.read_csv(path + \"/\"+file, names = col_name)\n",
    "        df = pd.concat([df, data], axis = 0)\n",
    "    df = preprocess_df(df, col_name)\n",
    "    df = value_bar(df, 5_000_000)\n",
    "    df = df[df.volume > 0]\n",
    "    return df\n",
    "\n",
    "def preprocess_df(data, col_name):\n",
    "    data = data[data.체결시각 != 31000000]\n",
    "    data.일자     = data.일자.astype(str)\n",
    "    data.종목코드 = data.종목코드.astype(str).str.zfill(6)\n",
    "    data.체결시각 = data.체결시각.astype(str).str.zfill(8)\n",
    "    data[\"거래대금\"] = data.현재가 * data.체결수량\n",
    "    data.index = pd.to_datetime(data.일자 + data.체결시각, format=\"%Y%m%d%H%M%S%f\")\n",
    "    data.index.name = \"시각\"    \n",
    "    return data[set(col_name + [\"거래대금\"]) - set([\"일자\", \"체결시각\"])]"
   ]
  },
  {
   "cell_type": "code",
   "execution_count": 4,
   "metadata": {},
   "outputs": [],
   "source": [
    "def mpPandasObj(func,pdObj,numThreads=24,mpBatches=1,linMols=True,**kargs):\n",
    "    '''\n",
    "    Parallelize jobs, return a dataframe or series\n",
    "    + func: function to be parallelized. Returns a DataFrame\n",
    "    + pdObj[0]: Name of argument used to pass the molecule\n",
    "    + pdObj[1]: List of atoms that will be grouped into molecules\n",
    "    + kwds: any other argument needed by func\n",
    "    Example: df1=mpPandasObj(func,('molecule',df0.index),24,**kwds)\n",
    "    '''\n",
    "    import pandas as pd\n",
    "    #if linMols:parts=linParts(len(argList[1]),numThreads*mpBatches)\n",
    "    #else:parts=nestedParts(len(argList[1]),numThreads*mpBatches)\n",
    "    if linMols:parts=linParts(len(pdObj[1]),numThreads*mpBatches)\n",
    "    else:parts=nestedParts(len(pdObj[1]),numThreads*mpBatches)\n",
    "\n",
    "    jobs=[]\n",
    "    for i in range(1,len(parts)):\n",
    "        job={pdObj[0]:pdObj[1][parts[i-1]:parts[i]],'func':func}\n",
    "        job.update(kargs)\n",
    "        jobs.append(job)\n",
    "    if numThreads==1:out=processJobs_(jobs)\n",
    "    else: out=processJobs(jobs,numThreads=numThreads)\n",
    "    if isinstance(out[0],pd.DataFrame):df0=pd.DataFrame()\n",
    "    elif isinstance(out[0],pd.Series):df0=pd.Series()\n",
    "    else:return out\n",
    "    for i in out:df0=df0.append(i)\n",
    "    df0=df0.sort_index()\n",
    "    return df0\n",
    "\n",
    "\n",
    "def linParts(numAtoms,numThreads):\n",
    "    # partition of atoms with a single loop\n",
    "    parts=np.linspace(0,numAtoms,min(numThreads,numAtoms)+1)\n",
    "    parts=np.ceil(parts).astype(int)\n",
    "    return parts\n",
    "\n",
    "def nestedParts(numAtoms,numThreads,upperTriang=False):\n",
    "    # partition of atoms with an inner loop\n",
    "    parts,numThreads_=[0],min(numThreads,numAtoms)\n",
    "    for num in range(numThreads_):\n",
    "        part=1+4*(parts[-1]**2+parts[-1]+numAtoms*(numAtoms+1.)/numThreads_)\n",
    "        part=(-1+part**.5)/2.\n",
    "        parts.append(part)\n",
    "    parts=np.round(parts).astype(int)\n",
    "    if upperTriang: # the first rows are heaviest\n",
    "        parts=np.cumsum(np.diff(parts)[::-1])\n",
    "        parts=np.append(np.array([0]),parts)\n",
    "    return parts\n",
    "\n",
    "def processJobs_(jobs):\n",
    "    # Run jobs sequentially, for debugging\n",
    "    out=[]\n",
    "    for job in jobs:\n",
    "        out_=expandCall(job)\n",
    "        out.append(out_)\n",
    "    return out\n",
    "# =======================================================\n",
    "# Example of async call to multiprocessing lib [20.9]\n",
    "import multiprocessing as mp\n",
    "import datetime as dt\n",
    "\n",
    "#________________________________\n",
    "def reportProgress(jobNum,numJobs,time0,task):\n",
    "    # Report progress as asynch jobs are completed\n",
    "    msg=[float(jobNum)/numJobs, (time.time()-time0)/60.]\n",
    "    msg.append(msg[1]*(1/msg[0]-1))\n",
    "    timeStamp=str(dt.datetime.fromtimestamp(time.time()))\n",
    "    msg=timeStamp+' '+str(round(msg[0]*100,2))+'% '+task+' done after '+ \\\n",
    "        str(round(msg[1],2))+' minutes. Remaining '+str(round(msg[2],2))+' minutes.'\n",
    "    if jobNum<numJobs:sys.stderr.write(msg+'\\r')\n",
    "    else:sys.stderr.write(msg+'\\n')\n",
    "    return\n",
    "#________________________________\n",
    "def processJobs(jobs,task=None,numThreads=24):\n",
    "    # Run in parallel.\n",
    "    # jobs must contain a 'func' callback, for expandCall\n",
    "    if task is None:task=jobs[0]['func'].__name__\n",
    "    pool=mp.Pool(processes=numThreads)\n",
    "    outputs,out,time0=pool.imap_unordered(expandCall,jobs),[],time.time()\n",
    "    # Process asyn output, report progress\n",
    "    for i,out_ in enumerate(outputs,1):\n",
    "        out.append(out_)\n",
    "        reportProgress(i,len(jobs),time0,task)\n",
    "    pool.close();pool.join() # this is needed to prevent memory leaks\n",
    "    return out\n",
    "# =======================================================\n",
    "# Unwrapping the Callback [20.10]\n",
    "def expandCall(kargs):\n",
    "    # Expand the arguments of a callback function, kargs['func']\n",
    "    func=kargs['func']\n",
    "    del kargs['func']\n",
    "    out=func(**kargs)\n",
    "    return out\n",
    "# =======================================================\n",
    "# Pickle Unpickling Objects [20.11]\n",
    "def _pickle_method(method):\n",
    "    func_name=method.im_func.__name__\n",
    "    obj=method.im_self\n",
    "    cls=method.im_class\n",
    "    return _unpickle_method, (func_name,obj,cls)\n",
    "#________________________________\n",
    "def _unpickle_method(func_name,obj,cls):\n",
    "    for cls in cls.mro():\n",
    "        try:func=cls.__dict__[func_name]\n",
    "        except KeyError:pass\n",
    "        else:break\n",
    "    return func.__get__(obj,cls)\n",
    "#________________________________"
   ]
  },
  {
   "cell_type": "code",
   "execution_count": 5,
   "metadata": {},
   "outputs": [],
   "source": [
    "## 2.4. 대칭 CUSUM 필터\n",
    "def getTEventS(gRaw, h):\n",
    "    tEvents, sPos, sNeg = [], 0, 0\n",
    "    diff = gRaw.diff()\n",
    "    for i in diff.index[1:]:\n",
    "        sPos, sNeg = max(0, sPos + diff.loc[i]), min(0, sNeg + diff.loc[i])\n",
    "        if sNeg < -h:\n",
    "            sNeg = 0\n",
    "            tEvents.append(i)\n",
    "        elif sNeg > h:\n",
    "            sPos = 0\n",
    "            tEvents.append(i)\n",
    "    return pd.DatetimeIndex(tEvents)\n",
    "\n",
    "# 3.1.일별 변동성 계산 \n",
    "def getDailyVol(close, span0=100):\n",
    "    # daily vol, reindexed to cloes\n",
    "    df0 = close.index.searchsorted(close.index - pd.Timedelta(days=1))\n",
    "    df0 = df0[df0>0]\n",
    "    df0 = pd.Series(close.index[df0 - 1], index=close.index[close.shape[0] - df0.shape[0]:])\n",
    "    df0 = close.loc[df0.index] / close.loc[df0.values].values - 1 # daily returns\n",
    "    df0 = df0.ewm(span=span0).std()\n",
    "    return df0\n",
    "\n",
    "# 3.3. 최초 도달 시간 측정\n",
    "def getEvents(close, tEvents, ptSl, trgt, minRet, numThreads=1, t1=False, side=None):\n",
    "    # 1) 목표 구하기\n",
    "    trgt = trgt.loc[tEvents]\n",
    "    trgt = trgt[trgt > minRet]\n",
    "    # 2) t1 구하기(최대 보유 기간)\n",
    "    if t1 is False:\n",
    "        t1 = pd.Series(pd.NaT, index=tEvents)\n",
    "    # 3) t1에 손절을 적용해 이벤트 객체를 형성\n",
    "    if side is None:\n",
    "        side_, ptSl_ = pd.Series(1.0, index=trgt.index), [ptSl[0], ptSl[0]]\n",
    "    else:\n",
    "        side_, ptSl_ = side.loc[trgt.index], ptSl[:2]\n",
    "    events = pd.concat({'t1': t1, 'trgt': trgt, 'side': side_}, axis=1).dropna(subset=['trgt'])\n",
    "    df0 = mpPandasObj(func=applyPtSlOnT1, pdObj=('molecule', events.index), numThreads=numThreads, close=close, events=events, ptSl=ptSl_)\n",
    "    events['t1'] = df0.dropna(how='all').min(axis=1) # pd.min ignores NaN\n",
    "    if side is None:\n",
    "        events = events.drop('side', axis=1)\n",
    "\n",
    "    # store for later\n",
    "    events['pt'] = ptSl[0]\n",
    "    events['sl'] = ptSl[1]\n",
    "\n",
    "    return events\n",
    "\n",
    "# 3.2. 트리플-배리어 레이블 기법\n",
    "def applyPtSlOnT1(close, events, ptSl, molecule):\n",
    "    # apply stop loss/profit taking, if it takes place before t1 (end of event)\n",
    "    events_ = events.loc[molecule]\n",
    "    out = events_[['t1']].copy(deep=True)\n",
    "\n",
    "    if ptSl[0] > 0:\n",
    "        pt = ptSl[0] * events_['trgt']\n",
    "    else:\n",
    "        pt = pd.Series(index=events.index) # NaNs\n",
    "\n",
    "    if ptSl[1] > 0:\n",
    "        sl = - ptSl[1] * events_['trgt']\n",
    "    else:\n",
    "        sl = pd.Series(index=events.index) # 'mo NaNs\n",
    "\n",
    "    for loc, t1 in events_['t1'].fillna(close.index[-1]).iteritems():\n",
    "        df0 = close[loc:t1] # path prices\n",
    "        df0 = (df0 / close[loc] - 1) * events_.at[loc, 'side'] # path returns\n",
    "        out.loc[loc, 'sl'] = df0[df0<sl[loc]].index.min() # earliest stop loss\n",
    "        out.loc[loc, 'pt'] = df0[df0>pt[loc]].index.min() # earliest profit take\n",
    "    return out"
   ]
  },
  {
   "cell_type": "code",
   "execution_count": 6,
   "metadata": {},
   "outputs": [],
   "source": [
    "## 4.1. 레이블의 고유성 계산\n",
    "def mpNumCoEvents(closeIdx,t1,molecule):\n",
    "    \"\"\"\n",
    "    바별로 공존하는 이벤트 개수 계산\n",
    "    +molecule[0]은 가중값이 계산될 첫 이벤트 날짜\n",
    "    +molecule[-1]은 가중값이 계산될 마지막 이벤트 날짜다.\n",
    "    t1[moldecule].max() 이전에 발생하는 모든 이벤트는 개수에 영향을 미침\n",
    "    \"\"\"\n",
    "    #1) [molecule[0],molecule[-1]] 구간에서 이벤트 탐색\n",
    "    t1=t1.fillna(closeIdx[-1]) # 드러난 이벤트는 다른 가중값에 영향 미침\n",
    "    t1=t1[t1>=molecule[0]] # molecule[0] 마지막이나 이후에 발생하는 이벤트\n",
    "    t1=t1.loc[:t1[molecule].max()] # t1[molecule].max() 이전이나 시작시에 발생하는 이벤트\n",
    "    \n",
    "    #2) 이벤트 바 개수 확인 \n",
    "    iloc=closeIdx.searchsorted(np.array([t1.index[0],t1.max()]))\n",
    "    count=pd.Series(0,index=closeIdx[iloc[0]:iloc[1]+1])\n",
    "    for tIn,tOut in t1.iteritems():count.loc[tIn:tOut]+=1.\n",
    "    return count.loc[molecule[0]:t1[molecule].max()]"
   ]
  },
  {
   "cell_type": "code",
   "execution_count": 7,
   "metadata": {},
   "outputs": [],
   "source": [
    "path = './005930_1M_20200517_20200814'\n",
    "col_name = [\"일자\", \"종목코드\", \"체결시각\", \"체결수량\", \"현재가\", \n",
    "            \"매도최우선호가\", \"매수최우선호가\" ,\"매도최우선호가잔량\", \"매수최우선호가잔량\", \n",
    "            \"매도10단계호가잔량합\", \"매수10단계호가잔량합\", \"매도성향체결수량\", \"매수성향체결수량\"]"
   ]
  },
  {
   "cell_type": "code",
   "execution_count": 8,
   "metadata": {},
   "outputs": [],
   "source": [
    "close = read_all_csv(path, col_name).close"
   ]
  },
  {
   "cell_type": "code",
   "execution_count": 9,
   "metadata": {},
   "outputs": [
    {
     "data": {
      "text/plain": [
       "시각\n",
       "2020-05-19 09:01:00         NaN\n",
       "2020-05-19 09:02:00    0.003025\n",
       "2020-05-19 09:03:00    0.002457\n",
       "2020-05-19 09:04:00    0.002190\n",
       "2020-05-19 09:05:00    0.002748\n",
       "Name: close, dtype: float64"
      ]
     },
     "execution_count": 9,
     "metadata": {},
     "output_type": "execute_result"
    }
   ],
   "source": [
    "daily_vol = getDailyVol(close)\n",
    "daily_vol.head()"
   ]
  },
  {
   "cell_type": "code",
   "execution_count": 10,
   "metadata": {},
   "outputs": [],
   "source": [
    "## 전체 길이가 h런 있을 경우만 표본 추출, h는 daily_vol의 mean값 사용\n",
    "filtered_bars = getTEventS(close, daily_vol.mean())"
   ]
  },
  {
   "cell_type": "code",
   "execution_count": 11,
   "metadata": {},
   "outputs": [
    {
     "data": {
      "text/plain": [
       "0.08413776178010471"
      ]
     },
     "execution_count": 11,
     "metadata": {},
     "output_type": "execute_result"
    }
   ],
   "source": [
    "len(filtered_bars) / len(close)"
   ]
  },
  {
   "cell_type": "code",
   "execution_count": 12,
   "metadata": {},
   "outputs": [
    {
     "data": {
      "text/html": [
       "<div>\n",
       "<style scoped>\n",
       "    .dataframe tbody tr th:only-of-type {\n",
       "        vertical-align: middle;\n",
       "    }\n",
       "\n",
       "    .dataframe tbody tr th {\n",
       "        vertical-align: top;\n",
       "    }\n",
       "\n",
       "    .dataframe thead th {\n",
       "        text-align: right;\n",
       "    }\n",
       "</style>\n",
       "<table border=\"1\" class=\"dataframe\">\n",
       "  <thead>\n",
       "    <tr style=\"text-align: right;\">\n",
       "      <th></th>\n",
       "      <th>t1</th>\n",
       "      <th>trgt</th>\n",
       "      <th>pt</th>\n",
       "      <th>sl</th>\n",
       "    </tr>\n",
       "  </thead>\n",
       "  <tbody>\n",
       "    <tr>\n",
       "      <td>2020-05-20 09:08:00</td>\n",
       "      <td>2020-05-22 09:39:00</td>\n",
       "      <td>0.012649</td>\n",
       "      <td>1</td>\n",
       "      <td>1</td>\n",
       "    </tr>\n",
       "    <tr>\n",
       "      <td>2020-05-20 09:09:00</td>\n",
       "      <td>2020-05-22 10:11:00</td>\n",
       "      <td>0.013324</td>\n",
       "      <td>1</td>\n",
       "      <td>1</td>\n",
       "    </tr>\n",
       "    <tr>\n",
       "      <td>2020-05-20 09:12:00</td>\n",
       "      <td>2020-05-22 10:11:00</td>\n",
       "      <td>0.014298</td>\n",
       "      <td>1</td>\n",
       "      <td>1</td>\n",
       "    </tr>\n",
       "    <tr>\n",
       "      <td>2020-05-20 09:17:00</td>\n",
       "      <td>2020-05-22 10:11:00</td>\n",
       "      <td>0.015470</td>\n",
       "      <td>1</td>\n",
       "      <td>1</td>\n",
       "    </tr>\n",
       "    <tr>\n",
       "      <td>2020-05-20 09:41:00</td>\n",
       "      <td>2020-05-22 10:11:00</td>\n",
       "      <td>0.015548</td>\n",
       "      <td>1</td>\n",
       "      <td>1</td>\n",
       "    </tr>\n",
       "  </tbody>\n",
       "</table>\n",
       "</div>"
      ],
      "text/plain": [
       "                                     t1      trgt  pt  sl\n",
       "2020-05-20 09:08:00 2020-05-22 09:39:00  0.012649   1   1\n",
       "2020-05-20 09:09:00 2020-05-22 10:11:00  0.013324   1   1\n",
       "2020-05-20 09:12:00 2020-05-22 10:11:00  0.014298   1   1\n",
       "2020-05-20 09:17:00 2020-05-22 10:11:00  0.015470   1   1\n",
       "2020-05-20 09:41:00 2020-05-22 10:11:00  0.015548   1   1"
      ]
     },
     "execution_count": 12,
     "metadata": {},
     "output_type": "execute_result"
    }
   ],
   "source": [
    "trip_barr_events = getEvents(close, filtered_bars, ptSl=[1,1], trgt=daily_vol, minRet=0.01)\n",
    "t1 = trip_barr_events[\"t1\"]\n",
    "trip_barr_events.head()"
   ]
  },
  {
   "cell_type": "code",
   "execution_count": 13,
   "metadata": {},
   "outputs": [
    {
     "data": {
      "text/plain": [
       "시각\n",
       "2020-05-20 09:08:00    1.0\n",
       "2020-05-20 09:09:00    2.0\n",
       "2020-05-20 09:10:00    2.0\n",
       "2020-05-20 09:11:00    2.0\n",
       "2020-05-20 09:12:00    3.0\n",
       "dtype: float64"
      ]
     },
     "execution_count": 13,
     "metadata": {},
     "output_type": "execute_result"
    }
   ],
   "source": [
    "numCoEvents = mpNumCoEvents(close.index, trip_barr_events['t1'], filtered_bars)\n",
    "numCoEvents.head()"
   ]
  },
  {
   "cell_type": "code",
   "execution_count": 14,
   "metadata": {},
   "outputs": [
    {
     "data": {
      "text/plain": [
       "시각\n",
       "2020-05-18 09:00:00.990    47850\n",
       "2020-05-18 09:01:00.000    47950\n",
       "2020-05-18 09:02:00.000    47950\n",
       "2020-05-18 09:03:00.000    47900\n",
       "2020-05-18 09:04:00.000    47950\n",
       "Name: close, dtype: int64"
      ]
     },
     "execution_count": 14,
     "metadata": {},
     "output_type": "execute_result"
    }
   ],
   "source": [
    "close.head()"
   ]
  },
  {
   "cell_type": "code",
   "execution_count": 15,
   "metadata": {},
   "outputs": [
    {
     "data": {
      "text/plain": [
       "DatetimeIndex(['2020-05-18 09:03:00', '2020-05-18 09:05:00',\n",
       "               '2020-05-18 09:10:00', '2020-05-18 09:11:00',\n",
       "               '2020-05-18 09:12:00'],\n",
       "              dtype='datetime64[ns]', freq=None)"
      ]
     },
     "execution_count": 15,
     "metadata": {},
     "output_type": "execute_result"
    }
   ],
   "source": [
    "molecule = getTEventS(close, daily_vol.mean())\n",
    "molecule[:5]"
   ]
  },
  {
   "cell_type": "code",
   "execution_count": 16,
   "metadata": {},
   "outputs": [],
   "source": [
    "## 절대 수익률 기여도에 의한 표본 가중값 결정\n",
    "def mpSampleW(t1, numCoEvents, close, molecule):\n",
    "    # 수익률 기여에 따른 샘플 가중값 도출\n",
    "    ret = np.log(close).diff()\n",
    "    wght = pd.Series(index=molecule)\n",
    "    for tIn, tOut in t1.loc[wght.index].iteritems():\n",
    "        wght.loc[tIn] = (ret.loc[tIn:tOut] / numCoEvents.loc[tIn:tOut]).sum()\n",
    "    return wght.abs()"
   ]
  },
  {
   "cell_type": "code",
   "execution_count": 17,
   "metadata": {},
   "outputs": [],
   "source": [
    "ret = np.log(close).diff()\n",
    "wght = pd.Series(index=molecule)\n",
    "ls =[]\n",
    "for tIn, tOut in t1.loc[wght.index].iteritems():\n",
    "    wght.loc[tIn] = (ret.loc[tIn:tOut] / numCoEvents.loc[tIn:tOut]).sum()\n",
    "    ls.append(tOut)"
   ]
  },
  {
   "cell_type": "code",
   "execution_count": 19,
   "metadata": {},
   "outputs": [
    {
     "data": {
      "text/plain": [
       "2020-08-13 15:07:00    0.001503\n",
       "2020-08-13 15:08:00    0.001333\n",
       "2020-08-13 15:10:00    0.001143\n",
       "2020-08-13 15:13:00    0.000858\n",
       "2020-08-13 15:15:00    0.000000\n",
       "dtype: float64"
      ]
     },
     "execution_count": 19,
     "metadata": {},
     "output_type": "execute_result"
    }
   ],
   "source": [
    "w = mpSampleW(t1, numCoEvents, close, filtered_bars)\n",
    "w.tail()"
   ]
  },
  {
   "cell_type": "code",
   "execution_count": 20,
   "metadata": {},
   "outputs": [
    {
     "data": {
      "text/plain": [
       "2020-08-13 15:07:00    4.302653\n",
       "2020-08-13 15:08:00    3.814569\n",
       "2020-08-13 15:10:00    3.271328\n",
       "2020-08-13 15:13:00    2.455071\n",
       "2020-08-13 15:15:00    0.000000\n",
       "dtype: float64"
      ]
     },
     "execution_count": 20,
     "metadata": {},
     "output_type": "execute_result"
    }
   ],
   "source": [
    "w *= w.shape[0] / w.sum()\n",
    "w.tail()"
   ]
  },
  {
   "cell_type": "markdown",
   "metadata": {},
   "source": [
    "## 4.11"
   ]
  },
  {
   "cell_type": "code",
   "execution_count": 21,
   "metadata": {},
   "outputs": [],
   "source": [
    "# 4.2. 레이블의 평균 고유성\n",
    "def mpSampleTW(t1, numCoEvents, molecule):\n",
    "    ## 이벤트 생명 주기 동안의 평균 고유성 도출\n",
    "    wght = pd.Series(index=molecule)\n",
    "    for tIn, tOut in t1.loc[wght.index].iteritems():\n",
    "        wght.loc[tIn] = (1.0 / numCoEvents.loc[tIn:tOut]).mean()\n",
    "    return wght\n"
   ]
  },
  {
   "cell_type": "code",
   "execution_count": 27,
   "metadata": {},
   "outputs": [
    {
     "data": {
      "text/plain": [
       "2020-05-18 09:03:00         inf\n",
       "2020-05-18 09:05:00         inf\n",
       "2020-05-18 09:10:00         inf\n",
       "2020-05-18 09:11:00         inf\n",
       "2020-05-18 09:12:00         inf\n",
       "                         ...   \n",
       "2020-08-13 15:07:00    0.184921\n",
       "2020-08-13 15:08:00    0.199074\n",
       "2020-08-13 15:10:00    0.229167\n",
       "2020-08-13 15:13:00    0.250000\n",
       "2020-08-13 15:15:00         NaN\n",
       "Length: 2057, dtype: float64"
      ]
     },
     "execution_count": 27,
     "metadata": {},
     "output_type": "execute_result"
    }
   ],
   "source": [
    "tW = mpSampleTW(t1, numCoEvents, molecule)\n",
    "tW"
   ]
  },
  {
   "cell_type": "code",
   "execution_count": 24,
   "metadata": {},
   "outputs": [],
   "source": [
    "def getTimeDecay(tW, clfLastW=1.0):\n",
    "    # 관측된 고유성(tW)에 구간-선형 감쇄 적용\n",
    "    # 최신 관측값  weight = 1, 가장 오래된 관측값 : clfLastW\n",
    "    clfW = tW.sort_index().cumsum()\n",
    "    if clfLastW >= 0:\n",
    "        slope = (1.0 - clfLastW) / clfW.iloc[-1]\n",
    "    else:\n",
    "        slope = 1 / ((clfLastW + 1) * clfW.iloc[-1])\n",
    "    const = 1.0 - slope * clfW.iloc[-1]\n",
    "    clfW = const + slope * clfW\n",
    "    clfW[clfW < 0] = 0\n",
    "    print(const, slope)\n",
    "    return clfW"
   ]
  },
  {
   "cell_type": "markdown",
   "metadata": {},
   "source": [
    "## 4.1. 레이블의 고유성 계산"
   ]
  },
  {
   "cell_type": "code",
   "execution_count": 2,
   "metadata": {},
   "outputs": [],
   "source": [
    "def mpNumCoEvents(closeIdx,t1,molecule):\n",
    "    \"\"\"\n",
    "    바별로 공존하는 이벤트 개수 계산\n",
    "    +molecule[0]은 가중값이 계산될 첫 이벤트 날짜\n",
    "    +molecule[-1]은 가중값이 계산될 마지막 이벤트 날짜다.\n",
    "    t1[moldecule].max() 이전에 발생하는 모든 이벤트는 개수에 영향을 미침\n",
    "    \"\"\"\n",
    "    #1) [molecule[0],molecule[-1]] 구간에서 이벤트 탐색\n",
    "    t1=t1.fillna(closeIdx[-1]) # 드러난 이벤트는 다른 가중값에 영향 미침\n",
    "    t1=t1[t1>=molecule[0]] # molecule[0] 마지막이나 이후에 발생하는 이벤트\n",
    "    t1=t1.loc[:t1[molecule].max()] # t1[molecule].max() 이전이나 시작시에 발생하는 이벤트\n",
    "    \n",
    "    #2) 이벤트 바 개수 확인 \n",
    "    iloc=closeIdx.searchsorted(np.array([t1.index[0],t1.max()]))\n",
    "    count=pd.Series(0,index=closeIdx[iloc[0]:iloc[1]+1])\n",
    "    for tIn,tOut in t1.iteritems():count.loc[tIn:tOut]+=1.\n",
    "    return count.loc[molecule[0]:t1[molecule].max()]"
   ]
  },
  {
   "cell_type": "code",
   "execution_count": null,
   "metadata": {},
   "outputs": [],
   "source": []
  },
  {
   "cell_type": "code",
   "execution_count": null,
   "metadata": {},
   "outputs": [],
   "source": []
  },
  {
   "cell_type": "code",
   "execution_count": null,
   "metadata": {},
   "outputs": [],
   "source": []
  },
  {
   "cell_type": "code",
   "execution_count": null,
   "metadata": {},
   "outputs": [],
   "source": [
    "conc_events = mpNumCoEvents(filtered_bars, trip_barr_events['t1'], filtered_bars)"
   ]
  },
  {
   "cell_type": "markdown",
   "metadata": {},
   "source": [
    "## 4.2. 레이블의 평균 고유성 계산"
   ]
  },
  {
   "cell_type": "code",
   "execution_count": null,
   "metadata": {},
   "outputs": [],
   "source": []
  },
  {
   "cell_type": "code",
   "execution_count": 3,
   "metadata": {},
   "outputs": [],
   "source": [
    "def mpSampleTW(t1, numCoEvents, molecule):\n",
    "    ## 이벤트 생명 주기 동안의 평균 고유성 도출\n",
    "    wght = pd.Series(index=molecule)\n",
    "    for tIn, tOut in t1.loc[wght.index].iteritems():\n",
    "        wght.loc[tIn] = (1.0 / numCoEvents.loc[tIn:tOut]).mean()\n",
    "    return wght\n"
   ]
  },
  {
   "cell_type": "markdown",
   "metadata": {},
   "source": [
    "## 4.3. 지표 행렬 구축"
   ]
  },
  {
   "cell_type": "code",
   "execution_count": 4,
   "metadata": {},
   "outputs": [],
   "source": [
    "def getIndMatrix(barIx, t1):\n",
    "    ## 지표 행렬 구하기\n",
    "    indM = pd.DataFrame(0, index=barIx, columns=range(t1.shape[0]))\n",
    "    for i, (t0, t1) in enumerate(t1.iteritems()):\n",
    "        indM.loc[t0:t1, i] = 1.0\n",
    "    return indM"
   ]
  },
  {
   "cell_type": "markdown",
   "metadata": {},
   "source": [
    "## 4.4 평균 고유성 계산"
   ]
  },
  {
   "cell_type": "code",
   "execution_count": 5,
   "metadata": {},
   "outputs": [],
   "source": [
    "def getAvgUniqueness(indM):\n",
    "    # 지표 행렬로부터의 평균 고유성 \n",
    "    c = indM.sum(axis=1)  # 공존\n",
    "    u = indM.div(c, axis=0)  # 공유성\n",
    "    avgU = u[u > 0].mean()  # 평균 고유성\n",
    "    return avgU"
   ]
  },
  {
   "cell_type": "markdown",
   "metadata": {},
   "source": [
    "## 4.5. 순차적 부트스랩으로부터 수익률 표본 추출"
   ]
  },
  {
   "cell_type": "code",
   "execution_count": 6,
   "metadata": {},
   "outputs": [],
   "source": [
    "def seqBootstrap(indM,sLength = None):\n",
    "    # Generate a sample via sequential bootstrap\n",
    "    if sLength is None:sLength = indM.shape[1]\n",
    "    phi = []\n",
    "    while len(phi) < sLength:\n",
    "        avgU = pd.Series()\n",
    "        for i in indM:\n",
    "            indM_ = indM[phi + [i]] # reduce indM\n",
    "            avgU.loc[i] = getAvgUniqueness(indM_).iloc[-1]\n",
    "        prob = avgU/avgU.sum() # draw prob\n",
    "        phi += [np.random.choice(indM.columns, p=prob)]\n",
    "    return phi\n"
   ]
  },
  {
   "cell_type": "markdown",
   "metadata": {},
   "source": [
    "## 4.7. 랜덤 T1 Series 생성"
   ]
  },
  {
   "cell_type": "code",
   "execution_count": 7,
   "metadata": {},
   "outputs": [],
   "source": [
    "def getRndT1(numObs, numBars, maxH):\n",
    "    # Serie t1 aleatoria\n",
    "    t1 = pd.Series()\n",
    "    for i in range(numObs):\n",
    "        ix = np.random.randint(0, numBars)\n",
    "        val = ix + np.random.randint(1, maxH)\n",
    "        t1.loc[ix] = val\n",
    "    return t1.sort_index()"
   ]
  },
  {
   "cell_type": "markdown",
   "metadata": {},
   "source": [
    "## 4.8. 표준과 순차적 부트스트랩에서의 고유성"
   ]
  },
  {
   "cell_type": "code",
   "execution_count": 8,
   "metadata": {},
   "outputs": [],
   "source": [
    "def auxMC(numObs,numBars,maxH):\n",
    "    # Parallelized auxiliary function\n",
    "    t1 = getRndT1(numObs,numBars,maxH)\n",
    "    barIx = range(t1.max()+1)\n",
    "    indM = getIndMatrix(barIx,t1)\n",
    "    phi = np.random.choice(indM.columns,size = indM.shape[1])\n",
    "    stdU = getAvgUniqueness(indM[phi]).mean()\n",
    "    phi = seqBootstrap(indM)\n",
    "    seqU = getAvgUniqueness(indM[phi]).mean()\n",
    "    return { 'stdU':stdU,'seqU':seqU }\n"
   ]
  },
  {
   "cell_type": "markdown",
   "metadata": {},
   "source": [
    "## 4.10 절대 수익률 기여도에 의한 표본 가중값 결정"
   ]
  },
  {
   "cell_type": "code",
   "execution_count": 9,
   "metadata": {},
   "outputs": [],
   "source": [
    "def mpSampleW(t1, numCoEvents, close, molecule):\n",
    "    # 수익률 기여에 따른 샘플 가중값 도출\n",
    "    ret = np.log(close).diff() # 로그 리턴이브로 가산적\n",
    "    wght = pd.Series(index=molecule)\n",
    "    for tIn, tOut in t1.loc[wght.index].iteritems():\n",
    "        wght.loc[tIn] = (ret.loc[tIn:tOut] / numCoEvents.loc[tIn:tOut]).sum()\n",
    "    return wght.abs()"
   ]
  },
  {
   "cell_type": "code",
   "execution_count": 10,
   "metadata": {},
   "outputs": [],
   "source": [
    "def seqBootstrap(indM,sLength = None):\n",
    "    # Generate a sample via sequential bootstrap\n",
    "    if sLength is None:sLength = indM.shape[1]\n",
    "    phi = []\n",
    "    while len(phi) < sLength:\n",
    "        avgU = pd.Series()\n",
    "        for i in indM:\n",
    "            indM_ = indM[phi + [i]] # reduce indM\n",
    "            avgU.loc[i] = getAvgUniqueness(indM_).iloc[-1]\n",
    "        prob = avgU/avgU.sum() # draw prob\n",
    "        phi += [np.random.choice(indM.columns, p=prob)]\n",
    "    return phi\n",
    "\n",
    "\n",
    "\n",
    "\n",
    "\n",
    "def mainMC(numbObs=10, numBars=100, maxH=5, numIters=1000, numThreads=24):\n",
    "    # Experimentos Monte Carlo\n",
    "    jobs = []\n",
    "    for i in range(int(numIters)):\n",
    "        job = {\"func\": auxMC,\n",
    "               \"numObs\": numbObs,\n",
    "               \"numBars\": numBars,\n",
    "               \"maxH\": maxH}\n",
    "        jobs.append(job)\n",
    "    return pd.DataFrame(jobs).describe()\n",
    "\n",
    "\n",
    "def mpSampleW(t1, numCoEvents, close, molecule):\n",
    "    # Derivar el peso de ejemplar por la atribución devuelta\n",
    "    ret = np.log(close).diff()\n",
    "    wght = pd.Series(index=molecule)\n",
    "    for tIn, tOut in t1.loc[wght.index].iteritems():\n",
    "        wght.loc[tIn] = (ret.loc[tIn:tOut] / numCoEvents.loc[tIn:tOut]).sum()\n",
    "    return wght.abs()\n",
    "\n",
    "\n",
    "def getTimeDecay(tW, clfLastW=1.0):\n",
    "    # Aplicar un decaimiento lineal por pieza a la unicidad obserbada tW\n",
    "    # Las observaciones más recientes obtienen un weight=1, las más antiguas obtiene weight=clfLastW\n",
    "    clfW = tW.sort_index().cumsum()\n",
    "    if clfLastW >= 0:\n",
    "        slope = (1.0 - clfLastW) / clfW.iloc[-1]\n",
    "    else:\n",
    "        slope = 1.0 / ((clfLastW + 1) * clfW.iloc[-1])\n",
    "    const = 1.0 - slope * clfW.iloc[-1]\n",
    "    clfW = const + slope * clfW\n",
    "    clfW[clfW < 0] = 0\n",
    "    print(const, slope)\n",
    "    return clfW\n"
   ]
  },
  {
   "cell_type": "code",
   "execution_count": 11,
   "metadata": {},
   "outputs": [],
   "source": [
    "t1 = pd.Series([2, 3, 5], index=[0, 2, 4])"
   ]
  },
  {
   "cell_type": "code",
   "execution_count": 12,
   "metadata": {},
   "outputs": [],
   "source": [
    "barIx = range(t1.max() + 1)"
   ]
  },
  {
   "cell_type": "code",
   "execution_count": 26,
   "metadata": {},
   "outputs": [
    {
     "data": {
      "text/html": [
       "<div>\n",
       "<style scoped>\n",
       "    .dataframe tbody tr th:only-of-type {\n",
       "        vertical-align: middle;\n",
       "    }\n",
       "\n",
       "    .dataframe tbody tr th {\n",
       "        vertical-align: top;\n",
       "    }\n",
       "\n",
       "    .dataframe thead th {\n",
       "        text-align: right;\n",
       "    }\n",
       "</style>\n",
       "<table border=\"1\" class=\"dataframe\">\n",
       "  <thead>\n",
       "    <tr style=\"text-align: right;\">\n",
       "      <th></th>\n",
       "      <th>$i=0$</th>\n",
       "      <th>$i=1$</th>\n",
       "      <th>$i=2$</th>\n",
       "    </tr>\n",
       "  </thead>\n",
       "  <tbody>\n",
       "    <tr>\n",
       "      <td>$1_0,i$</td>\n",
       "      <td>1</td>\n",
       "      <td>0</td>\n",
       "      <td>0</td>\n",
       "    </tr>\n",
       "    <tr>\n",
       "      <td>$1_1,i$</td>\n",
       "      <td>1</td>\n",
       "      <td>0</td>\n",
       "      <td>0</td>\n",
       "    </tr>\n",
       "    <tr>\n",
       "      <td>$1_2,i$</td>\n",
       "      <td>1</td>\n",
       "      <td>1</td>\n",
       "      <td>0</td>\n",
       "    </tr>\n",
       "    <tr>\n",
       "      <td>$1_3,i$</td>\n",
       "      <td>0</td>\n",
       "      <td>1</td>\n",
       "      <td>0</td>\n",
       "    </tr>\n",
       "    <tr>\n",
       "      <td>$1_4,i$</td>\n",
       "      <td>0</td>\n",
       "      <td>0</td>\n",
       "      <td>1</td>\n",
       "    </tr>\n",
       "    <tr>\n",
       "      <td>$1_5,i$</td>\n",
       "      <td>0</td>\n",
       "      <td>0</td>\n",
       "      <td>1</td>\n",
       "    </tr>\n",
       "  </tbody>\n",
       "</table>\n",
       "</div>"
      ],
      "text/plain": [
       "         $i=0$  $i=1$  $i=2$\n",
       "$1_0,i$      1      0      0\n",
       "$1_1,i$      1      0      0\n",
       "$1_2,i$      1      1      0\n",
       "$1_3,i$      0      1      0\n",
       "$1_4,i$      0      0      1\n",
       "$1_5,i$      0      0      1"
      ]
     },
     "execution_count": 26,
     "metadata": {},
     "output_type": "execute_result"
    }
   ],
   "source": [
    "indM = getIndMatrix(barIx, t1)\n",
    "indM.columns = [f\"$i={i}$\" for i in indM.columns]\n",
    "indM.index =  [f\"$1_{i},i$\" for i in indM.index]\n",
    "indM.astype(int)"
   ]
  },
  {
   "cell_type": "code",
   "execution_count": null,
   "metadata": {},
   "outputs": [],
   "source": []
  },
  {
   "cell_type": "code",
   "execution_count": null,
   "metadata": {},
   "outputs": [],
   "source": []
  },
  {
   "cell_type": "code",
   "execution_count": null,
   "metadata": {},
   "outputs": [],
   "source": []
  },
  {
   "cell_type": "code",
   "execution_count": null,
   "metadata": {},
   "outputs": [],
   "source": []
  },
  {
   "cell_type": "code",
   "execution_count": 20,
   "metadata": {},
   "outputs": [
    {
     "name": "stdout",
     "output_type": "stream",
     "text": [
      "[0 1 1]\n",
      "Unicidad estándar: 0.5370370370370371\n",
      "[0, 2, 0]\n",
      "Unicidad secuencial: 0.6666666666666666\n",
      "       numObs  numBars    maxH\n",
      "count  1000.0   1000.0  1000.0\n",
      "mean     10.0    100.0     5.0\n",
      "std       0.0      0.0     0.0\n",
      "min      10.0    100.0     5.0\n",
      "25%      10.0    100.0     5.0\n",
      "50%      10.0    100.0     5.0\n",
      "75%      10.0    100.0     5.0\n",
      "max      10.0    100.0     5.0\n"
     ]
    }
   ],
   "source": [
    "if __name__ == '__main__':\n",
    "    t1 = pd.Series([2, 3, 5], index=[0, 2, 4])\n",
    "    barIx = range(t1.max() + 1)\n",
    "    indM = getIndMatrix(barIx, t1)\n",
    "    phi = np.random.choice(indM.columns, size=indM.shape[1])\n",
    "    print(phi)\n",
    "    print(\"Unicidad estándar:\", getAvgUniqueness(indM[phi]).mean())\n",
    "    phi = seqBootstrap(indM)\n",
    "    print(phi)\n",
    "    print(\"Unicidad secuencial:\", getAvgUniqueness(indM[phi]).mean())\n",
    "    print(mainMC())"
   ]
  },
  {
   "cell_type": "code",
   "execution_count": 12,
   "metadata": {},
   "outputs": [
    {
     "data": {
      "text/plain": [
       "0    2\n",
       "2    3\n",
       "4    5\n",
       "dtype: int64"
      ]
     },
     "execution_count": 12,
     "metadata": {},
     "output_type": "execute_result"
    }
   ],
   "source": [
    "t1 = pd.Series([2, 3, 5], index=[0, 2, 4])\n",
    "t1"
   ]
  },
  {
   "cell_type": "code",
   "execution_count": 13,
   "metadata": {},
   "outputs": [
    {
     "data": {
      "text/plain": [
       "range(0, 6)"
      ]
     },
     "execution_count": 13,
     "metadata": {},
     "output_type": "execute_result"
    }
   ],
   "source": [
    "barIx = range(t1.max() + 1)\n",
    "barIx"
   ]
  },
  {
   "cell_type": "code",
   "execution_count": 14,
   "metadata": {},
   "outputs": [
    {
     "data": {
      "text/html": [
       "<div>\n",
       "<style scoped>\n",
       "    .dataframe tbody tr th:only-of-type {\n",
       "        vertical-align: middle;\n",
       "    }\n",
       "\n",
       "    .dataframe tbody tr th {\n",
       "        vertical-align: top;\n",
       "    }\n",
       "\n",
       "    .dataframe thead th {\n",
       "        text-align: right;\n",
       "    }\n",
       "</style>\n",
       "<table border=\"1\" class=\"dataframe\">\n",
       "  <thead>\n",
       "    <tr style=\"text-align: right;\">\n",
       "      <th></th>\n",
       "      <th>y_0</th>\n",
       "      <th>y_1</th>\n",
       "      <th>y_2</th>\n",
       "    </tr>\n",
       "  </thead>\n",
       "  <tbody>\n",
       "    <tr>\n",
       "      <td>r_0</td>\n",
       "      <td>1</td>\n",
       "      <td>0</td>\n",
       "      <td>0</td>\n",
       "    </tr>\n",
       "    <tr>\n",
       "      <td>r_1</td>\n",
       "      <td>1</td>\n",
       "      <td>0</td>\n",
       "      <td>0</td>\n",
       "    </tr>\n",
       "    <tr>\n",
       "      <td>r_2</td>\n",
       "      <td>1</td>\n",
       "      <td>1</td>\n",
       "      <td>0</td>\n",
       "    </tr>\n",
       "    <tr>\n",
       "      <td>r_3</td>\n",
       "      <td>0</td>\n",
       "      <td>1</td>\n",
       "      <td>0</td>\n",
       "    </tr>\n",
       "    <tr>\n",
       "      <td>r_4</td>\n",
       "      <td>0</td>\n",
       "      <td>0</td>\n",
       "      <td>1</td>\n",
       "    </tr>\n",
       "    <tr>\n",
       "      <td>r_5</td>\n",
       "      <td>0</td>\n",
       "      <td>0</td>\n",
       "      <td>1</td>\n",
       "    </tr>\n",
       "  </tbody>\n",
       "</table>\n",
       "</div>"
      ],
      "text/plain": [
       "     y_0  y_1  y_2\n",
       "r_0    1    0    0\n",
       "r_1    1    0    0\n",
       "r_2    1    1    0\n",
       "r_3    0    1    0\n",
       "r_4    0    0    1\n",
       "r_5    0    0    1"
      ]
     },
     "execution_count": 14,
     "metadata": {},
     "output_type": "execute_result"
    }
   ],
   "source": [
    "indM = getIndMatrix(barIx, t1)\n",
    "indM.columns = [f\"y_{i}\" for i in indM.columns]\n",
    "indM.index =  [f\"r_{i}\" for i in indM.index]\n",
    "indM.astype(int)"
   ]
  },
  {
   "cell_type": "code",
   "execution_count": 15,
   "metadata": {},
   "outputs": [
    {
     "name": "stdout",
     "output_type": "stream",
     "text": [
      "Unicidad estándar: 0.5185185185185185\n"
     ]
    },
    {
     "data": {
      "text/plain": [
       "array(['y_1', 'y_0', 'y_0'], dtype=object)"
      ]
     },
     "execution_count": 15,
     "metadata": {},
     "output_type": "execute_result"
    }
   ],
   "source": [
    "phi = np.random.choice(indM.columns, size=indM.shape[1])\n",
    "print(\"Unicidad estándar:\", getAvgUniqueness(indM[phi]).mean())\n",
    "phi"
   ]
  },
  {
   "cell_type": "code",
   "execution_count": 16,
   "metadata": {},
   "outputs": [
    {
     "name": "stdout",
     "output_type": "stream",
     "text": [
      "['y_2', 'y_2', 'y_1']\n",
      "Unicidad secuencial: 0.6666666666666666\n",
      "       numObs  numBars    maxH\n",
      "count  1000.0   1000.0  1000.0\n",
      "mean     10.0    100.0     5.0\n",
      "std       0.0      0.0     0.0\n",
      "min      10.0    100.0     5.0\n",
      "25%      10.0    100.0     5.0\n",
      "50%      10.0    100.0     5.0\n",
      "75%      10.0    100.0     5.0\n",
      "max      10.0    100.0     5.0\n"
     ]
    }
   ],
   "source": [
    "phi = seqBootstrap(indM)\n",
    "print(phi)"
   ]
  },
  {
   "cell_type": "code",
   "execution_count": 22,
   "metadata": {},
   "outputs": [
    {
     "name": "stdout",
     "output_type": "stream",
     "text": [
      "Unicidad secuencial: 0.6666666666666666\n"
     ]
    },
    {
     "data": {
      "text/html": [
       "<div>\n",
       "<style scoped>\n",
       "    .dataframe tbody tr th:only-of-type {\n",
       "        vertical-align: middle;\n",
       "    }\n",
       "\n",
       "    .dataframe tbody tr th {\n",
       "        vertical-align: top;\n",
       "    }\n",
       "\n",
       "    .dataframe thead th {\n",
       "        text-align: right;\n",
       "    }\n",
       "</style>\n",
       "<table border=\"1\" class=\"dataframe\">\n",
       "  <thead>\n",
       "    <tr style=\"text-align: right;\">\n",
       "      <th></th>\n",
       "      <th>numObs</th>\n",
       "      <th>numBars</th>\n",
       "      <th>maxH</th>\n",
       "    </tr>\n",
       "  </thead>\n",
       "  <tbody>\n",
       "    <tr>\n",
       "      <td>count</td>\n",
       "      <td>1000</td>\n",
       "      <td>1000</td>\n",
       "      <td>1000</td>\n",
       "    </tr>\n",
       "    <tr>\n",
       "      <td>mean</td>\n",
       "      <td>10</td>\n",
       "      <td>100</td>\n",
       "      <td>5</td>\n",
       "    </tr>\n",
       "    <tr>\n",
       "      <td>std</td>\n",
       "      <td>0</td>\n",
       "      <td>0</td>\n",
       "      <td>0</td>\n",
       "    </tr>\n",
       "    <tr>\n",
       "      <td>min</td>\n",
       "      <td>10</td>\n",
       "      <td>100</td>\n",
       "      <td>5</td>\n",
       "    </tr>\n",
       "    <tr>\n",
       "      <td>25%</td>\n",
       "      <td>10</td>\n",
       "      <td>100</td>\n",
       "      <td>5</td>\n",
       "    </tr>\n",
       "    <tr>\n",
       "      <td>50%</td>\n",
       "      <td>10</td>\n",
       "      <td>100</td>\n",
       "      <td>5</td>\n",
       "    </tr>\n",
       "    <tr>\n",
       "      <td>75%</td>\n",
       "      <td>10</td>\n",
       "      <td>100</td>\n",
       "      <td>5</td>\n",
       "    </tr>\n",
       "    <tr>\n",
       "      <td>max</td>\n",
       "      <td>10</td>\n",
       "      <td>100</td>\n",
       "      <td>5</td>\n",
       "    </tr>\n",
       "  </tbody>\n",
       "</table>\n",
       "</div>"
      ],
      "text/plain": [
       "       numObs  numBars  maxH\n",
       "count    1000     1000  1000\n",
       "mean       10      100     5\n",
       "std         0        0     0\n",
       "min        10      100     5\n",
       "25%        10      100     5\n",
       "50%        10      100     5\n",
       "75%        10      100     5\n",
       "max        10      100     5"
      ]
     },
     "execution_count": 22,
     "metadata": {},
     "output_type": "execute_result"
    }
   ],
   "source": [
    "print(\"Unicidad secuencial:\", getAvgUniqueness(indM[phi]).mean())\n",
    "mainMC().astype(int)"
   ]
  }
 ],
 "metadata": {
  "kernelspec": {
   "display_name": "Python 3 (ipykernel)",
   "language": "python",
   "name": "python3"
  },
  "language_info": {
   "codemirror_mode": {
    "name": "ipython",
    "version": 3
   },
   "file_extension": ".py",
   "mimetype": "text/x-python",
   "name": "python",
   "nbconvert_exporter": "python",
   "pygments_lexer": "ipython3",
   "version": "3.9.7"
  }
 },
 "nbformat": 4,
 "nbformat_minor": 4
}
