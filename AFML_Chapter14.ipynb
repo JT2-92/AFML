{
 "cells": [
  {
   "cell_type": "code",
   "execution_count": 1,
   "metadata": {},
   "outputs": [],
   "source": [
    "import numpy as np\n",
    "import pandas as pd"
   ]
  },
  {
   "cell_type": "code",
   "execution_count": 89,
   "metadata": {},
   "outputs": [
    {
     "data": {
      "text/plain": [
       "0   -1\n",
       "1   -2\n",
       "2    0\n",
       "3    2\n",
       "4    1\n",
       "5    0\n",
       "6    2\n",
       "7    2\n",
       "8    1\n",
       "9    0\n",
       "dtype: int32"
      ]
     },
     "execution_count": 89,
     "metadata": {},
     "output_type": "execute_result"
    }
   ],
   "source": [
    "trade_position = pd.Series(np.random.randint(-3,3, 10))\n",
    "trade_position"
   ]
  },
  {
   "cell_type": "code",
   "execution_count": 56,
   "metadata": {},
   "outputs": [
    {
     "data": {
      "text/plain": [
       "Int64Index([1, 4, 7, 9], dtype='int64')"
      ]
     },
     "execution_count": 56,
     "metadata": {},
     "output_type": "execute_result"
    }
   ],
   "source": [
    "# 포지션이 바뀐 날 탐색\n",
    "## df0 : 거래 0인 날(포지션 변동)\n",
    "df0 = trade_position[trade_position==0].index \n",
    "## df1 : 전날 거래가 0이 아닌 날\n",
    "df1 = trade_position.shift(1)\n",
    "df1 = df1[df1!=0].index\n",
    "## bets : 전날 포지션이 0이 아닌데, 현재 0인 날(0 연속 방지)\n",
    "bets = df0.intersection(df1)\n",
    "## 전날 포지션과 다음날 포지션 곱함, 음수라면 포지션 변동\n",
    "df0 = trade_position.iloc[1:] * trade_position.iloc[:-1].values\n",
    "## 전날 0이 아닌데 현재 0 + 전날과 다음날 포지션 변동일\n",
    "bets = bets.union(df0[df0<0].index).sort_values()\n",
    "## 마지막 날이 포함되어 있지 않으면 추가\n",
    "if trade_position.index[-1] not in bets:\n",
    "    bets.append(trade_position.index[-1:])"
   ]
  },
  {
   "cell_type": "code",
   "execution_count": 59,
   "metadata": {},
   "outputs": [],
   "source": [
    "def getHoldingPeriod(tPos):\n",
    "    ## DataFrame, 0 생성\n",
    "    hp, tEntry = pd.DataFrame(columns = [\"dT\", \"w\"]), 0.\n",
    "    ## pDiff : 일자별 변동량, tDiff : 첫날부터 index 일까지의 날짜 수\n",
    "    pDiff, tDiff = tPos.diff(), (tPos.index - tPos.index[0]) / \\\n",
    "                                 p.timedelta64(1, \"D\")\n",
    "    ## 1부터 총 거래일까지\n",
    "    for i in range(1, tPos.shape[0]):\n",
    "        ## 일자별 변동량 * 전날 포지션\n",
    "        ## 포지션 증가(매수 상태에서 매수, 매도 상태에서 매도) or 변화 없음\n",
    "        if pDiff.iloc[i]*tPos.iloc[i-1] >= 0:\n",
    "            ## 해당 포지션이 0이 아니라면\n",
    "            if tPos.iloc[i] != 0:\n",
    "                tEntry = (tEntry * tPos.iloc[i -1] + tDiff[i] * pDiff.iloc[i]) / tPos.iloc[i]\n",
    "        ## 포지션 감소\n",
    "        else:\n",
    "            ## 포지션 변경(매수 상태에서 매도, 매도 상태에서 매수 )\n",
    "            if tPos.iloc[i] * tPos.iloc[i-1] < 0:\n",
    "                hp.loc[tPos.index[i], [\"dT\", \"w\"]] = (tDiff[i] - tEntry, abs(tPos.iloc[i-1]))\n",
    "                ## 진입 시점 초기화\n",
    "                tEntry = tDiff[i] \n",
    "            ## 포지션 변경 X\n",
    "            else:\n",
    "                hp.loc[tPos.index[i], [\"dT\", \"w\"]] = (tDiff[i] - tEntry, abs(pDiff.iloc[i]))\n",
    "    ## 포지션 보유시\n",
    "    if hp[\"w\"].sum() > 0:\n",
    "        ## 평균 계산\n",
    "        hp = (hp[\"dT\"] * hp[\"w\"]).sum() / hp[\"w\"].sum()\n",
    "    ## hp[\"w\"].sum() == 0 : 포지션 보유 x\n",
    "    else:\n",
    "        hp = np.nan\n",
    "    return hp\n",
    "    "
   ]
  },
  {
   "cell_type": "code",
   "execution_count": 90,
   "metadata": {},
   "outputs": [
    {
     "data": {
      "text/plain": [
       "0   -1\n",
       "1   -2\n",
       "2    0\n",
       "3    2\n",
       "4    1\n",
       "5    0\n",
       "6    2\n",
       "7    2\n",
       "8    1\n",
       "9    0\n",
       "dtype: int32"
      ]
     },
     "execution_count": 90,
     "metadata": {},
     "output_type": "execute_result"
    }
   ],
   "source": [
    "trade_position"
   ]
  },
  {
   "cell_type": "code",
   "execution_count": 91,
   "metadata": {},
   "outputs": [
    {
     "data": {
      "text/plain": [
       "0    NaN\n",
       "1   -1.0\n",
       "2    2.0\n",
       "3    2.0\n",
       "4   -1.0\n",
       "5   -1.0\n",
       "6    2.0\n",
       "7    0.0\n",
       "8   -1.0\n",
       "9   -1.0\n",
       "dtype: float64"
      ]
     },
     "execution_count": 91,
     "metadata": {},
     "output_type": "execute_result"
    }
   ],
   "source": [
    "trade_position.diff()"
   ]
  },
  {
   "cell_type": "code",
   "execution_count": 92,
   "metadata": {},
   "outputs": [
    {
     "data": {
      "text/plain": [
       "0    NaN\n",
       "1   -1.0\n",
       "2   -2.0\n",
       "3    0.0\n",
       "4    2.0\n",
       "5    1.0\n",
       "6    0.0\n",
       "7    2.0\n",
       "8    2.0\n",
       "9    1.0\n",
       "dtype: float64"
      ]
     },
     "execution_count": 92,
     "metadata": {},
     "output_type": "execute_result"
    }
   ],
   "source": [
    "trade_position.shift(1)"
   ]
  },
  {
   "cell_type": "code",
   "execution_count": 93,
   "metadata": {},
   "outputs": [
    {
     "data": {
      "text/plain": [
       "0    NaN\n",
       "1    1.0\n",
       "2   -4.0\n",
       "3    0.0\n",
       "4   -2.0\n",
       "5   -1.0\n",
       "6    0.0\n",
       "7    0.0\n",
       "8   -2.0\n",
       "9   -1.0\n",
       "dtype: float64"
      ]
     },
     "execution_count": 93,
     "metadata": {},
     "output_type": "execute_result"
    }
   ],
   "source": [
    "trade_position.diff() * trade_position.shift(1)"
   ]
  },
  {
   "cell_type": "code",
   "execution_count": 64,
   "metadata": {},
   "outputs": [
    {
     "data": {
      "text/plain": [
       "0   -2.0\n",
       "1   -3.0\n",
       "2   -2.0\n",
       "3    0.0\n",
       "4   -2.0\n",
       "5   -3.0\n",
       "6    0.0\n",
       "7   -4.0\n",
       "8    2.0\n",
       "9    NaN\n",
       "dtype: float64"
      ]
     },
     "execution_count": 64,
     "metadata": {},
     "output_type": "execute_result"
    }
   ],
   "source": []
  },
  {
   "cell_type": "code",
   "execution_count": 49,
   "metadata": {},
   "outputs": [
    {
     "data": {
      "text/plain": [
       "Int64Index([1, 4, 7, 9], dtype='int64')"
      ]
     },
     "execution_count": 49,
     "metadata": {},
     "output_type": "execute_result"
    }
   ],
   "source": [
    "bets"
   ]
  },
  {
   "cell_type": "code",
   "execution_count": null,
   "metadata": {},
   "outputs": [],
   "source": []
  }
 ],
 "metadata": {
  "kernelspec": {
   "display_name": "Python 3",
   "language": "python",
   "name": "python3"
  },
  "language_info": {
   "codemirror_mode": {
    "name": "ipython",
    "version": 3
   },
   "file_extension": ".py",
   "mimetype": "text/x-python",
   "name": "python",
   "nbconvert_exporter": "python",
   "pygments_lexer": "ipython3",
   "version": "3.7.4"
  }
 },
 "nbformat": 4,
 "nbformat_minor": 4
}
