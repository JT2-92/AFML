{
 "cells": [
  {
   "cell_type": "code",
   "execution_count": 2,
   "metadata": {},
   "outputs": [],
   "source": [
    "def getTrainTimse(t1, testTimes):\n",
    "    '''\n",
    "    주어진 TestTimes에 대해 훈련 관측값의 시간을 찾음\n",
    "    input : \n",
    "        - t1\n",
    "            - t1.index : 관측 시작 시간\n",
    "            - t1.values : 관측 종료 시간\n",
    "        - testTime\n",
    "            테스트 관측 시간\n",
    "    '''\n",
    "    trn = t1.copy(deep = True)\n",
    "    for i,j in testTimes.iteritems():\n",
    "        # 테스트 내 훈련 시작\n",
    "        df0 = trn[(i<=trn.index)&(trn.index<=j)].index\n",
    "        # 테스트 내 훈련 종료\n",
    "        df1 = trn[(i<=trn)&(trn<=j)].index       \n",
    "        # 훈련이 테스트 포함\n",
    "        df2 = trn[(trn.index<=i)&(j<=trn)].index\n",
    "        trn=trn.drop(df0.union(df1).union(df2))\n",
    "    return trn"
   ]
  },
  {
   "cell_type": "code",
   "execution_count": 2,
   "metadata": {},
   "outputs": [],
   "source": [
    "def getEmbargoTimes(times, pctEmbargo):\n",
    "    ## 각 바에 대한 엠바고 시간 획득\n",
    "    step=int(times.shape[0]*pctEmbargo)\n",
    "    if step==0:\n",
    "        mbrg=pd.Series(times, index =times)\n",
    "    else:\n",
    "        mbrg=pd.Sereis(times[step:], index=times[:-step])\n",
    "        mbrg=mbrg.append(pd.Sereis(times[-1],index=times[-step:]))\n",
    "    return mbrg"
   ]
  },
  {
   "cell_type": "code",
   "execution_count": null,
   "metadata": {},
   "outputs": [],
   "source": []
  }
 ],
 "metadata": {
  "kernelspec": {
   "display_name": "Python 3",
   "language": "python",
   "name": "python3"
  },
  "language_info": {
   "codemirror_mode": {
    "name": "ipython",
    "version": 3
   },
   "file_extension": ".py",
   "mimetype": "text/x-python",
   "name": "python",
   "nbconvert_exporter": "python",
   "pygments_lexer": "ipython3",
   "version": "3.7.6"
  }
 },
 "nbformat": 4,
 "nbformat_minor": 4
}
